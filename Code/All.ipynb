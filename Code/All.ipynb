{
 "cells": [
  {
   "cell_type": "code",
   "execution_count": 1,
   "metadata": {},
   "outputs": [],
   "source": [
    "import pandas as pd"
   ]
  },
  {
   "cell_type": "code",
   "execution_count": 2,
   "metadata": {},
   "outputs": [
    {
     "name": "stdout",
     "output_type": "stream",
     "text": [
      "Question_title              object\n",
      "Question_body               object\n",
      "Question_answer_count        int64\n",
      "Question_comment_count       int64\n",
      "Question_creation_date      object\n",
      "Question_favorite_count    float64\n",
      "Question_last_edit_date     object\n",
      "Question_score               int64\n",
      "Question_tags               object\n",
      "Question_view_count          int64\n",
      "Owner_creation_date         object\n",
      "Owner_last_access_date      object\n",
      "Owner_location              object\n",
      "Owner_reputation             int64\n",
      "Owner_up_votes               int64\n",
      "Owner_down_votes             int64\n",
      "Owner_views                  int64\n",
      "Answer_body                 object\n",
      "Answer_comment_count       float64\n",
      "Answer_creation_date        object\n",
      "Answer_last_edit_date       object\n",
      "Answer_score               float64\n",
      "dtype: object\n",
      "(4659, 22)\n"
     ]
    },
    {
     "data": {
      "text/html": [
       "<div>\n",
       "<style scoped>\n",
       "    .dataframe tbody tr th:only-of-type {\n",
       "        vertical-align: middle;\n",
       "    }\n",
       "\n",
       "    .dataframe tbody tr th {\n",
       "        vertical-align: top;\n",
       "    }\n",
       "\n",
       "    .dataframe thead th {\n",
       "        text-align: right;\n",
       "    }\n",
       "</style>\n",
       "<table border=\"1\" class=\"dataframe\">\n",
       "  <thead>\n",
       "    <tr style=\"text-align: right;\">\n",
       "      <th></th>\n",
       "      <th>Question_title</th>\n",
       "      <th>Question_body</th>\n",
       "      <th>Question_answer_count</th>\n",
       "      <th>Question_comment_count</th>\n",
       "      <th>Question_creation_date</th>\n",
       "      <th>Question_favorite_count</th>\n",
       "      <th>Question_last_edit_date</th>\n",
       "      <th>Question_score</th>\n",
       "      <th>Question_tags</th>\n",
       "      <th>Question_view_count</th>\n",
       "      <th>...</th>\n",
       "      <th>Owner_location</th>\n",
       "      <th>Owner_reputation</th>\n",
       "      <th>Owner_up_votes</th>\n",
       "      <th>Owner_down_votes</th>\n",
       "      <th>Owner_views</th>\n",
       "      <th>Answer_body</th>\n",
       "      <th>Answer_comment_count</th>\n",
       "      <th>Answer_creation_date</th>\n",
       "      <th>Answer_last_edit_date</th>\n",
       "      <th>Answer_score</th>\n",
       "    </tr>\n",
       "  </thead>\n",
       "  <tbody>\n",
       "    <tr>\n",
       "      <th>0</th>\n",
       "      <td>Why do you use Git over Mercurial? (Or vice ve...</td>\n",
       "      <td>&lt;p&gt;I currently use Git, and am generally happy...</td>\n",
       "      <td>11</td>\n",
       "      <td>3</td>\n",
       "      <td>2010-11-28 22:13:13.270000 UTC</td>\n",
       "      <td>3.0</td>\n",
       "      <td>NaN</td>\n",
       "      <td>27</td>\n",
       "      <td>git|mercurial|dvcs</td>\n",
       "      <td>5887</td>\n",
       "      <td>...</td>\n",
       "      <td>Grand Rapids, MI, United States</td>\n",
       "      <td>19010</td>\n",
       "      <td>1528</td>\n",
       "      <td>131</td>\n",
       "      <td>1945</td>\n",
       "      <td>&lt;p&gt;(A) Top 3 &lt;em&gt;real&lt;/em&gt; reasons I use Git r...</td>\n",
       "      <td>4.0</td>\n",
       "      <td>2010-11-29 17:05:36.920000 UTC</td>\n",
       "      <td>2012-05-12 11:00:17.347000 UTC</td>\n",
       "      <td>15.0</td>\n",
       "    </tr>\n",
       "    <tr>\n",
       "      <th>1</th>\n",
       "      <td>Is using a central repository going against GI...</td>\n",
       "      <td>&lt;p&gt;If you are in a &lt;em&gt;corporate&lt;/em&gt; setting ...</td>\n",
       "      <td>7</td>\n",
       "      <td>0</td>\n",
       "      <td>2009-01-20 08:49:22.967000 UTC</td>\n",
       "      <td>9.0</td>\n",
       "      <td>2009-01-20 18:41:25.783000 UTC</td>\n",
       "      <td>33</td>\n",
       "      <td>svn|git|dvcs</td>\n",
       "      <td>5400</td>\n",
       "      <td>...</td>\n",
       "      <td>United States</td>\n",
       "      <td>88329</td>\n",
       "      <td>1748</td>\n",
       "      <td>576</td>\n",
       "      <td>7706</td>\n",
       "      <td>&lt;p&gt;Not really. DCVS just allows more freedom i...</td>\n",
       "      <td>1.0</td>\n",
       "      <td>2009-01-20 08:55:16.310000 UTC</td>\n",
       "      <td>NaN</td>\n",
       "      <td>29.0</td>\n",
       "    </tr>\n",
       "    <tr>\n",
       "      <th>2</th>\n",
       "      <td>Moving from Visual Sourcesafe to Mercurial</td>\n",
       "      <td>&lt;p&gt;What's the best way to move a Visual Source...</td>\n",
       "      <td>6</td>\n",
       "      <td>0</td>\n",
       "      <td>2009-06-07 13:22:01.850000 UTC</td>\n",
       "      <td>11.0</td>\n",
       "      <td>2012-03-30 12:24:27.683000 UTC</td>\n",
       "      <td>19</td>\n",
       "      <td>mercurial|migration|dvcs|visual-sourcesafe</td>\n",
       "      <td>5105</td>\n",
       "      <td>...</td>\n",
       "      <td>Denver, CO</td>\n",
       "      <td>5351</td>\n",
       "      <td>341</td>\n",
       "      <td>2</td>\n",
       "      <td>414</td>\n",
       "      <td>&lt;p&gt;While I haven't made that particular conver...</td>\n",
       "      <td>0.0</td>\n",
       "      <td>2009-06-07 13:53:26.763000 UTC</td>\n",
       "      <td>NaN</td>\n",
       "      <td>14.0</td>\n",
       "    </tr>\n",
       "    <tr>\n",
       "      <th>3</th>\n",
       "      <td>Is a DVCS useful for one developer?</td>\n",
       "      <td>&lt;p&gt;Or would a conventional client-server VCS b...</td>\n",
       "      <td>6</td>\n",
       "      <td>0</td>\n",
       "      <td>2008-10-07 15:53:48.963000 UTC</td>\n",
       "      <td>5.0</td>\n",
       "      <td>2011-12-09 19:03:35.160000 UTC</td>\n",
       "      <td>16</td>\n",
       "      <td>version-control|dvcs</td>\n",
       "      <td>1016</td>\n",
       "      <td>...</td>\n",
       "      <td>Cambridge, MA, United States</td>\n",
       "      <td>110624</td>\n",
       "      <td>2947</td>\n",
       "      <td>204</td>\n",
       "      <td>15263</td>\n",
       "      <td>&lt;p&gt;Since you can still push to another machine...</td>\n",
       "      <td>1.0</td>\n",
       "      <td>2008-10-07 15:56:30.487000 UTC</td>\n",
       "      <td>NaN</td>\n",
       "      <td>15.0</td>\n",
       "    </tr>\n",
       "    <tr>\n",
       "      <th>4</th>\n",
       "      <td>Can Mercurial repositories be nested?</td>\n",
       "      <td>&lt;p&gt;What happens if there is already a Mercuria...</td>\n",
       "      <td>2</td>\n",
       "      <td>0</td>\n",
       "      <td>2010-08-30 21:12:26.233000 UTC</td>\n",
       "      <td>2.0</td>\n",
       "      <td>2010-08-31 20:14:09.243000 UTC</td>\n",
       "      <td>11</td>\n",
       "      <td>mercurial|dvcs</td>\n",
       "      <td>1129</td>\n",
       "      <td>...</td>\n",
       "      <td>NaN</td>\n",
       "      <td>137341</td>\n",
       "      <td>1445</td>\n",
       "      <td>39</td>\n",
       "      <td>12817</td>\n",
       "      <td>&lt;p&gt;Everything will be okay.&lt;/p&gt;\\n\\n&lt;p&gt;It seems...</td>\n",
       "      <td>3.0</td>\n",
       "      <td>2010-08-30 21:44:19.780000 UTC</td>\n",
       "      <td>NaN</td>\n",
       "      <td>10.0</td>\n",
       "    </tr>\n",
       "  </tbody>\n",
       "</table>\n",
       "<p>5 rows × 22 columns</p>\n",
       "</div>"
      ],
      "text/plain": [
       "                                      Question_title  \\\n",
       "0  Why do you use Git over Mercurial? (Or vice ve...   \n",
       "1  Is using a central repository going against GI...   \n",
       "2         Moving from Visual Sourcesafe to Mercurial   \n",
       "3                Is a DVCS useful for one developer?   \n",
       "4              Can Mercurial repositories be nested?   \n",
       "\n",
       "                                       Question_body  Question_answer_count  \\\n",
       "0  <p>I currently use Git, and am generally happy...                     11   \n",
       "1  <p>If you are in a <em>corporate</em> setting ...                      7   \n",
       "2  <p>What's the best way to move a Visual Source...                      6   \n",
       "3  <p>Or would a conventional client-server VCS b...                      6   \n",
       "4  <p>What happens if there is already a Mercuria...                      2   \n",
       "\n",
       "   Question_comment_count          Question_creation_date  \\\n",
       "0                       3  2010-11-28 22:13:13.270000 UTC   \n",
       "1                       0  2009-01-20 08:49:22.967000 UTC   \n",
       "2                       0  2009-06-07 13:22:01.850000 UTC   \n",
       "3                       0  2008-10-07 15:53:48.963000 UTC   \n",
       "4                       0  2010-08-30 21:12:26.233000 UTC   \n",
       "\n",
       "   Question_favorite_count         Question_last_edit_date  Question_score  \\\n",
       "0                      3.0                             NaN              27   \n",
       "1                      9.0  2009-01-20 18:41:25.783000 UTC              33   \n",
       "2                     11.0  2012-03-30 12:24:27.683000 UTC              19   \n",
       "3                      5.0  2011-12-09 19:03:35.160000 UTC              16   \n",
       "4                      2.0  2010-08-31 20:14:09.243000 UTC              11   \n",
       "\n",
       "                                Question_tags  Question_view_count  ...  \\\n",
       "0                          git|mercurial|dvcs                 5887  ...   \n",
       "1                                svn|git|dvcs                 5400  ...   \n",
       "2  mercurial|migration|dvcs|visual-sourcesafe                 5105  ...   \n",
       "3                        version-control|dvcs                 1016  ...   \n",
       "4                              mercurial|dvcs                 1129  ...   \n",
       "\n",
       "                    Owner_location Owner_reputation Owner_up_votes  \\\n",
       "0  Grand Rapids, MI, United States            19010           1528   \n",
       "1                    United States            88329           1748   \n",
       "2                       Denver, CO             5351            341   \n",
       "3     Cambridge, MA, United States           110624           2947   \n",
       "4                              NaN           137341           1445   \n",
       "\n",
       "   Owner_down_votes  Owner_views  \\\n",
       "0               131         1945   \n",
       "1               576         7706   \n",
       "2                 2          414   \n",
       "3               204        15263   \n",
       "4                39        12817   \n",
       "\n",
       "                                         Answer_body  Answer_comment_count  \\\n",
       "0  <p>(A) Top 3 <em>real</em> reasons I use Git r...                   4.0   \n",
       "1  <p>Not really. DCVS just allows more freedom i...                   1.0   \n",
       "2  <p>While I haven't made that particular conver...                   0.0   \n",
       "3  <p>Since you can still push to another machine...                   1.0   \n",
       "4  <p>Everything will be okay.</p>\\n\\n<p>It seems...                   3.0   \n",
       "\n",
       "             Answer_creation_date           Answer_last_edit_date Answer_score  \n",
       "0  2010-11-29 17:05:36.920000 UTC  2012-05-12 11:00:17.347000 UTC         15.0  \n",
       "1  2009-01-20 08:55:16.310000 UTC                             NaN         29.0  \n",
       "2  2009-06-07 13:53:26.763000 UTC                             NaN         14.0  \n",
       "3  2008-10-07 15:56:30.487000 UTC                             NaN         15.0  \n",
       "4  2010-08-30 21:44:19.780000 UTC                             NaN         10.0  \n",
       "\n",
       "[5 rows x 22 columns]"
      ]
     },
     "execution_count": 2,
     "metadata": {},
     "output_type": "execute_result"
    }
   ],
   "source": [
    "df = pd.read_csv('Raw.csv', encoding='ISO-8859-1')\n",
    "print(df.dtypes)\n",
    "print(df.shape)\n",
    "df.head()"
   ]
  },
  {
   "cell_type": "code",
   "execution_count": 3,
   "metadata": {},
   "outputs": [],
   "source": [
    "tags = {'databricks', 'databricks-unity-catalog', 'databricks-ml', 'amazon-sagemaker', 'amazon-sagemaker-experiments', 'mlflow', 'dvc', 'wandb', 'clearml', 'comet-ml', 'neptune', 'pachyderm', 'lakefs'}"
   ]
  },
  {
   "cell_type": "code",
   "execution_count": 4,
   "metadata": {},
   "outputs": [],
   "source": [
    "df['Question_valid_tags'] = [[] for _ in range(len(df))]\n",
    "for index, row in df.iterrows():\n",
    "    row_tags = set(str(row['Question_tags']).strip().split('|'))\n",
    "    df.at[index, 'Question_valid_tags'] = list(row_tags.intersection(tags))"
   ]
  },
  {
   "cell_type": "code",
   "execution_count": 5,
   "metadata": {},
   "outputs": [
    {
     "data": {
      "text/plain": [
       "(1321, 23)"
      ]
     },
     "execution_count": 5,
     "metadata": {},
     "output_type": "execute_result"
    }
   ],
   "source": [
    "df0 = df[df['Question_valid_tags'].map(len) == 0]\n",
    "df0.shape"
   ]
  },
  {
   "cell_type": "code",
   "execution_count": 6,
   "metadata": {},
   "outputs": [
    {
     "data": {
      "text/plain": [
       "(3338, 23)"
      ]
     },
     "execution_count": 6,
     "metadata": {},
     "output_type": "execute_result"
    }
   ],
   "source": [
    "df = df[df['Question_valid_tags'].map(len) > 0]\n",
    "df.shape"
   ]
  },
  {
   "cell_type": "code",
   "execution_count": 7,
   "metadata": {},
   "outputs": [
    {
     "data": {
      "text/plain": [
       "(39, 23)"
      ]
     },
     "execution_count": 7,
     "metadata": {},
     "output_type": "execute_result"
    }
   ],
   "source": [
    "df2 = df[df['Question_valid_tags'].map(len) > 1]\n",
    "df2.shape"
   ]
  },
  {
   "cell_type": "code",
   "execution_count": 8,
   "metadata": {},
   "outputs": [
    {
     "data": {
      "text/plain": [
       "(0, 23)"
      ]
     },
     "execution_count": 8,
     "metadata": {},
     "output_type": "execute_result"
    }
   ],
   "source": [
    "df3 = df[df['Question_valid_tags'].map(len) > 2]\n",
    "df3.shape"
   ]
  },
  {
   "cell_type": "code",
   "execution_count": 9,
   "metadata": {},
   "outputs": [],
   "source": [
    "df.to_csv('All_valid_posts.csv', encoding='ISO-8859-1', index=False)\n",
    "df0.to_csv('All_invalid_posts.csv', encoding='ISO-8859-1', index=False)\n",
    "df2.to_csv('All_double_tag_posts.csv', encoding='ISO-8859-1', index=False)"
   ]
  }
 ],
 "metadata": {
  "kernelspec": {
   "display_name": "Python 3.10.6 64-bit",
   "language": "python",
   "name": "python3"
  },
  "language_info": {
   "codemirror_mode": {
    "name": "ipython",
    "version": 3
   },
   "file_extension": ".py",
   "mimetype": "text/x-python",
   "name": "python",
   "nbconvert_exporter": "python",
   "pygments_lexer": "ipython3",
   "version": "3.10.6"
  },
  "vscode": {
   "interpreter": {
    "hash": "5885b8dfb9cbbda4406b6affad9fec9c9d8707d239c56787746651bbddd9354d"
   }
  }
 },
 "nbformat": 4,
 "nbformat_minor": 0
}
